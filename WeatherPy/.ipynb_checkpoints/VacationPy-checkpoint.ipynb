{
 "cells": [
  {
   "cell_type": "markdown",
   "metadata": {},
   "source": [
    "# VacationPy\n",
    "----\n",
    "\n",
    "#### Note\n",
    "* Keep an eye on your API usage. Use https://developers.google.com/maps/reporting/gmp-reporting as reference for how to monitor your usage and billing.\n",
    "\n",
    "* Instructions have been included for each segment. You do not have to follow them exactly, but they are included to help you think through the steps."
   ]
  },
  {
   "cell_type": "code",
   "execution_count": 1,
   "metadata": {},
   "outputs": [],
   "source": [
    "# Dependencies and Setup\n",
    "import matplotlib.pyplot as plt\n",
    "import pandas as pd\n",
    "import numpy as np\n",
    "import requests\n",
    "import gmaps\n",
    "import os\n",
    "import json\n",
    "\n",
    "# Import API key\n",
    "from api_keys import g_key"
   ]
  },
  {
   "cell_type": "markdown",
   "metadata": {},
   "source": [
    "### Store Part I results into DataFrame\n",
    "* Load the csv exported in Part I to a DataFrame"
   ]
  },
  {
   "cell_type": "code",
   "execution_count": 2,
   "metadata": {},
   "outputs": [],
   "source": [
    "city_df = pd.read_csv('city_data.csv')"
   ]
  },
  {
   "cell_type": "code",
   "execution_count": 3,
   "metadata": {},
   "outputs": [],
   "source": [
    "city_df = city_df.drop(columns = ['Unnamed: 0'])"
   ]
  },
  {
   "cell_type": "code",
   "execution_count": 4,
   "metadata": {},
   "outputs": [],
   "source": [
    "city_df = city_df.set_index(['City_Name'])"
   ]
  },
  {
   "cell_type": "code",
   "execution_count": 5,
   "metadata": {},
   "outputs": [
    {
     "data": {
      "text/html": [
       "<div>\n",
       "<style scoped>\n",
       "    .dataframe tbody tr th:only-of-type {\n",
       "        vertical-align: middle;\n",
       "    }\n",
       "\n",
       "    .dataframe tbody tr th {\n",
       "        vertical-align: top;\n",
       "    }\n",
       "\n",
       "    .dataframe thead th {\n",
       "        text-align: right;\n",
       "    }\n",
       "</style>\n",
       "<table border=\"1\" class=\"dataframe\">\n",
       "  <thead>\n",
       "    <tr style=\"text-align: right;\">\n",
       "      <th></th>\n",
       "      <th>Lat</th>\n",
       "      <th>Lon</th>\n",
       "      <th>Max_Temp</th>\n",
       "      <th>Humidity</th>\n",
       "      <th>Clouds</th>\n",
       "      <th>Wind_Speed</th>\n",
       "      <th>Country</th>\n",
       "      <th>Date</th>\n",
       "    </tr>\n",
       "    <tr>\n",
       "      <th>City_Name</th>\n",
       "      <th></th>\n",
       "      <th></th>\n",
       "      <th></th>\n",
       "      <th></th>\n",
       "      <th></th>\n",
       "      <th></th>\n",
       "      <th></th>\n",
       "      <th></th>\n",
       "    </tr>\n",
       "  </thead>\n",
       "  <tbody>\n",
       "    <tr>\n",
       "      <th>Port Alfred</th>\n",
       "      <td>-33.59</td>\n",
       "      <td>26.89</td>\n",
       "      <td>57.94</td>\n",
       "      <td>71</td>\n",
       "      <td>0</td>\n",
       "      <td>14.32</td>\n",
       "      <td>ZA</td>\n",
       "      <td>1598572677</td>\n",
       "    </tr>\n",
       "  </tbody>\n",
       "</table>\n",
       "</div>"
      ],
      "text/plain": [
       "               Lat    Lon  Max_Temp  Humidity  Clouds  Wind_Speed Country  \\\n",
       "City_Name                                                                   \n",
       "Port Alfred -33.59  26.89     57.94        71       0       14.32      ZA   \n",
       "\n",
       "                   Date  \n",
       "City_Name                \n",
       "Port Alfred  1598572677  "
      ]
     },
     "execution_count": 5,
     "metadata": {},
     "output_type": "execute_result"
    }
   ],
   "source": [
    "city_df.head(1)"
   ]
  },
  {
   "cell_type": "markdown",
   "metadata": {},
   "source": [
    "### Humidity Heatmap\n",
    "* Configure gmaps.\n",
    "* Use the Lat and Lng as locations and Humidity as the weight.\n",
    "* Add Heatmap layer to map."
   ]
  },
  {
   "cell_type": "code",
   "execution_count": 6,
   "metadata": {},
   "outputs": [],
   "source": [
    "gmaps.configure(api_key=g_key)"
   ]
  },
  {
   "cell_type": "code",
   "execution_count": 7,
   "metadata": {},
   "outputs": [],
   "source": [
    "locations = city_df[['Lat', 'Lon']]"
   ]
  },
  {
   "cell_type": "code",
   "execution_count": 8,
   "metadata": {},
   "outputs": [],
   "source": [
    "humidity_rating = city_df['Humidity']"
   ]
  },
  {
   "cell_type": "code",
   "execution_count": 9,
   "metadata": {},
   "outputs": [
    {
     "data": {
      "application/vnd.jupyter.widget-view+json": {
       "model_id": "2634ed78fdbe4dbdabd1e6040a536928",
       "version_major": 2,
       "version_minor": 0
      },
      "text/plain": [
       "Figure(layout=FigureLayout(height='420px'))"
      ]
     },
     "metadata": {},
     "output_type": "display_data"
    }
   ],
   "source": [
    "fig = gmaps.figure()\n",
    "\n",
    "heat_layer = gmaps.heatmap_layer(locations, weights= humidity_rating,\n",
    "                                 dissipating=False, max_intensity=100,\n",
    "                                 point_radius=4)\n",
    "fig.add_layer(heat_layer)\n",
    "fig"
   ]
  },
  {
   "cell_type": "markdown",
   "metadata": {},
   "source": [
    "### Create new DataFrame fitting weather criteria\n",
    "* Narrow down the cities to fit weather conditions.\n",
    "* Drop any rows will null values."
   ]
  },
  {
   "cell_type": "code",
   "execution_count": 10,
   "metadata": {},
   "outputs": [],
   "source": [
    "vaca_df = city_df.loc[city_df['Max_Temp'] <= 90]"
   ]
  },
  {
   "cell_type": "code",
   "execution_count": 11,
   "metadata": {},
   "outputs": [],
   "source": [
    "vaca_df = vaca_df.loc[vaca_df['Humidity'] <= 40]"
   ]
  },
  {
   "cell_type": "code",
   "execution_count": 12,
   "metadata": {},
   "outputs": [],
   "source": [
    "vaca_df = vaca_df.loc[vaca_df['Wind_Speed'] <= 10]"
   ]
  },
  {
   "cell_type": "code",
   "execution_count": 13,
   "metadata": {},
   "outputs": [],
   "source": [
    "vaca_df = vaca_df.loc[vaca_df['Clouds'] <= 30]"
   ]
  },
  {
   "cell_type": "code",
   "execution_count": 14,
   "metadata": {},
   "outputs": [
    {
     "data": {
      "text/html": [
       "<div>\n",
       "<style scoped>\n",
       "    .dataframe tbody tr th:only-of-type {\n",
       "        vertical-align: middle;\n",
       "    }\n",
       "\n",
       "    .dataframe tbody tr th {\n",
       "        vertical-align: top;\n",
       "    }\n",
       "\n",
       "    .dataframe thead th {\n",
       "        text-align: right;\n",
       "    }\n",
       "</style>\n",
       "<table border=\"1\" class=\"dataframe\">\n",
       "  <thead>\n",
       "    <tr style=\"text-align: right;\">\n",
       "      <th></th>\n",
       "      <th>Lat</th>\n",
       "      <th>Lon</th>\n",
       "      <th>Max_Temp</th>\n",
       "      <th>Humidity</th>\n",
       "      <th>Clouds</th>\n",
       "      <th>Wind_Speed</th>\n",
       "      <th>Country</th>\n",
       "      <th>Date</th>\n",
       "    </tr>\n",
       "    <tr>\n",
       "      <th>City_Name</th>\n",
       "      <th></th>\n",
       "      <th></th>\n",
       "      <th></th>\n",
       "      <th></th>\n",
       "      <th></th>\n",
       "      <th></th>\n",
       "      <th></th>\n",
       "      <th></th>\n",
       "    </tr>\n",
       "  </thead>\n",
       "  <tbody>\n",
       "    <tr>\n",
       "      <th>Aranos</th>\n",
       "      <td>-24.13</td>\n",
       "      <td>19.12</td>\n",
       "      <td>49.86</td>\n",
       "      <td>37</td>\n",
       "      <td>0</td>\n",
       "      <td>6.44</td>\n",
       "      <td>NaN</td>\n",
       "      <td>1598572689</td>\n",
       "    </tr>\n",
       "    <tr>\n",
       "      <th>Kalispell</th>\n",
       "      <td>48.20</td>\n",
       "      <td>-114.31</td>\n",
       "      <td>82.40</td>\n",
       "      <td>18</td>\n",
       "      <td>1</td>\n",
       "      <td>8.05</td>\n",
       "      <td>US</td>\n",
       "      <td>1598572696</td>\n",
       "    </tr>\n",
       "    <tr>\n",
       "      <th>Karratha</th>\n",
       "      <td>-20.74</td>\n",
       "      <td>116.85</td>\n",
       "      <td>81.30</td>\n",
       "      <td>28</td>\n",
       "      <td>0</td>\n",
       "      <td>4.63</td>\n",
       "      <td>AU</td>\n",
       "      <td>1598572696</td>\n",
       "    </tr>\n",
       "    <tr>\n",
       "      <th>Shādegān</th>\n",
       "      <td>30.65</td>\n",
       "      <td>48.66</td>\n",
       "      <td>89.60</td>\n",
       "      <td>37</td>\n",
       "      <td>0</td>\n",
       "      <td>6.93</td>\n",
       "      <td>IR</td>\n",
       "      <td>1598572696</td>\n",
       "    </tr>\n",
       "    <tr>\n",
       "      <th>Sabzawār</th>\n",
       "      <td>36.21</td>\n",
       "      <td>57.68</td>\n",
       "      <td>59.56</td>\n",
       "      <td>37</td>\n",
       "      <td>0</td>\n",
       "      <td>7.67</td>\n",
       "      <td>IR</td>\n",
       "      <td>1598572701</td>\n",
       "    </tr>\n",
       "    <tr>\n",
       "      <th>Nushki</th>\n",
       "      <td>29.55</td>\n",
       "      <td>66.02</td>\n",
       "      <td>69.66</td>\n",
       "      <td>23</td>\n",
       "      <td>0</td>\n",
       "      <td>2.80</td>\n",
       "      <td>PK</td>\n",
       "      <td>1598572706</td>\n",
       "    </tr>\n",
       "    <tr>\n",
       "      <th>Werda</th>\n",
       "      <td>-25.27</td>\n",
       "      <td>23.28</td>\n",
       "      <td>53.71</td>\n",
       "      <td>37</td>\n",
       "      <td>0</td>\n",
       "      <td>4.43</td>\n",
       "      <td>BW</td>\n",
       "      <td>1598572706</td>\n",
       "    </tr>\n",
       "    <tr>\n",
       "      <th>Kaeo</th>\n",
       "      <td>-35.10</td>\n",
       "      <td>173.78</td>\n",
       "      <td>62.01</td>\n",
       "      <td>3</td>\n",
       "      <td>11</td>\n",
       "      <td>5.01</td>\n",
       "      <td>NZ</td>\n",
       "      <td>1598572708</td>\n",
       "    </tr>\n",
       "    <tr>\n",
       "      <th>Osoyoos</th>\n",
       "      <td>49.03</td>\n",
       "      <td>-119.45</td>\n",
       "      <td>89.60</td>\n",
       "      <td>28</td>\n",
       "      <td>20</td>\n",
       "      <td>8.05</td>\n",
       "      <td>CA</td>\n",
       "      <td>1598572722</td>\n",
       "    </tr>\n",
       "    <tr>\n",
       "      <th>Riyadh</th>\n",
       "      <td>24.69</td>\n",
       "      <td>46.72</td>\n",
       "      <td>82.40</td>\n",
       "      <td>30</td>\n",
       "      <td>0</td>\n",
       "      <td>4.59</td>\n",
       "      <td>SA</td>\n",
       "      <td>1598572478</td>\n",
       "    </tr>\n",
       "    <tr>\n",
       "      <th>Cavalcante</th>\n",
       "      <td>-13.80</td>\n",
       "      <td>-47.46</td>\n",
       "      <td>71.15</td>\n",
       "      <td>23</td>\n",
       "      <td>15</td>\n",
       "      <td>5.79</td>\n",
       "      <td>BR</td>\n",
       "      <td>1598572740</td>\n",
       "    </tr>\n",
       "    <tr>\n",
       "      <th>Kharan</th>\n",
       "      <td>28.58</td>\n",
       "      <td>65.42</td>\n",
       "      <td>80.24</td>\n",
       "      <td>17</td>\n",
       "      <td>0</td>\n",
       "      <td>8.01</td>\n",
       "      <td>PK</td>\n",
       "      <td>1598572748</td>\n",
       "    </tr>\n",
       "    <tr>\n",
       "      <th>Tabas</th>\n",
       "      <td>33.60</td>\n",
       "      <td>56.92</td>\n",
       "      <td>75.20</td>\n",
       "      <td>15</td>\n",
       "      <td>0</td>\n",
       "      <td>4.70</td>\n",
       "      <td>IR</td>\n",
       "      <td>1598572749</td>\n",
       "    </tr>\n",
       "    <tr>\n",
       "      <th>Ngunguru</th>\n",
       "      <td>-35.62</td>\n",
       "      <td>174.50</td>\n",
       "      <td>62.01</td>\n",
       "      <td>3</td>\n",
       "      <td>8</td>\n",
       "      <td>5.01</td>\n",
       "      <td>NZ</td>\n",
       "      <td>1598572760</td>\n",
       "    </tr>\n",
       "    <tr>\n",
       "      <th>‘Ewa Beach</th>\n",
       "      <td>21.32</td>\n",
       "      <td>-158.01</td>\n",
       "      <td>89.60</td>\n",
       "      <td>40</td>\n",
       "      <td>1</td>\n",
       "      <td>8.05</td>\n",
       "      <td>US</td>\n",
       "      <td>1598572513</td>\n",
       "    </tr>\n",
       "    <tr>\n",
       "      <th>Sohag</th>\n",
       "      <td>26.56</td>\n",
       "      <td>31.69</td>\n",
       "      <td>80.60</td>\n",
       "      <td>32</td>\n",
       "      <td>0</td>\n",
       "      <td>5.82</td>\n",
       "      <td>EG</td>\n",
       "      <td>1598572765</td>\n",
       "    </tr>\n",
       "  </tbody>\n",
       "</table>\n",
       "</div>"
      ],
      "text/plain": [
       "              Lat     Lon  Max_Temp  Humidity  Clouds  Wind_Speed Country  \\\n",
       "City_Name                                                                   \n",
       "Aranos     -24.13   19.12     49.86        37       0        6.44     NaN   \n",
       "Kalispell   48.20 -114.31     82.40        18       1        8.05      US   \n",
       "Karratha   -20.74  116.85     81.30        28       0        4.63      AU   \n",
       "Shādegān    30.65   48.66     89.60        37       0        6.93      IR   \n",
       "Sabzawār    36.21   57.68     59.56        37       0        7.67      IR   \n",
       "Nushki      29.55   66.02     69.66        23       0        2.80      PK   \n",
       "Werda      -25.27   23.28     53.71        37       0        4.43      BW   \n",
       "Kaeo       -35.10  173.78     62.01         3      11        5.01      NZ   \n",
       "Osoyoos     49.03 -119.45     89.60        28      20        8.05      CA   \n",
       "Riyadh      24.69   46.72     82.40        30       0        4.59      SA   \n",
       "Cavalcante -13.80  -47.46     71.15        23      15        5.79      BR   \n",
       "Kharan      28.58   65.42     80.24        17       0        8.01      PK   \n",
       "Tabas       33.60   56.92     75.20        15       0        4.70      IR   \n",
       "Ngunguru   -35.62  174.50     62.01         3       8        5.01      NZ   \n",
       "‘Ewa Beach  21.32 -158.01     89.60        40       1        8.05      US   \n",
       "Sohag       26.56   31.69     80.60        32       0        5.82      EG   \n",
       "\n",
       "                  Date  \n",
       "City_Name               \n",
       "Aranos      1598572689  \n",
       "Kalispell   1598572696  \n",
       "Karratha    1598572696  \n",
       "Shādegān    1598572696  \n",
       "Sabzawār    1598572701  \n",
       "Nushki      1598572706  \n",
       "Werda       1598572706  \n",
       "Kaeo        1598572708  \n",
       "Osoyoos     1598572722  \n",
       "Riyadh      1598572478  \n",
       "Cavalcante  1598572740  \n",
       "Kharan      1598572748  \n",
       "Tabas       1598572749  \n",
       "Ngunguru    1598572760  \n",
       "‘Ewa Beach  1598572513  \n",
       "Sohag       1598572765  "
      ]
     },
     "execution_count": 14,
     "metadata": {},
     "output_type": "execute_result"
    }
   ],
   "source": [
    "vaca_df"
   ]
  },
  {
   "cell_type": "markdown",
   "metadata": {},
   "source": [
    "### Hotel Map\n",
    "* Store into variable named `hotel_df`.\n",
    "* Add a \"Hotel Name\" column to the DataFrame.\n",
    "* Set parameters to search for hotels with 5000 meters.\n",
    "* Hit the Google Places API for each city's coordinates.\n",
    "* Store the first Hotel result into the DataFrame.\n",
    "* Plot markers on top of the heatmap."
   ]
  },
  {
   "cell_type": "code",
   "execution_count": 56,
   "metadata": {},
   "outputs": [],
   "source": [
    "hotel_df = pd.DataFrame"
   ]
  },
  {
   "cell_type": "code",
   "execution_count": 68,
   "metadata": {},
   "outputs": [],
   "source": [
    "for city in vaca_df:\n",
    "    # geocoordinates\n",
    "\n",
    "    location = \"Aranos\"\n",
    "    target_search = \"Hotel\"\n",
    "    target_radius = 5000\n",
    "    target_type = \"hotel\"\n",
    "\n",
    "    # set up a parameters dictionary\n",
    "    params = {\n",
    "        \"location\": target_coordinates,\n",
    "        \"keyword\": target_search,\n",
    "        \"radius\": target_radius,\n",
    "        \"type\": target_type,\n",
    "        \"key\": g_key\n",
    "    }\n",
    "\n",
    "    # base url\n",
    "    base_url = \"https://maps.googleapis.com/maps/api/place/nearbysearch/json\"\n",
    "\n",
    "    # run a request using our params dictionary\n",
    "    response = requests.get(base_url, params=params)"
   ]
  },
  {
   "cell_type": "code",
   "execution_count": 69,
   "metadata": {},
   "outputs": [
    {
     "name": "stdout",
     "output_type": "stream",
     "text": [
      "{\n",
      "    \"html_attributions\": [],\n",
      "    \"results\": [],\n",
      "    \"status\": \"INVALID_REQUEST\"\n",
      "}\n"
     ]
    }
   ],
   "source": [
    "hotel_data = response.json()\n",
    "print(json.dumps(hotel_data, indent = 4))"
   ]
  },
  {
   "cell_type": "code",
   "execution_count": 55,
   "metadata": {},
   "outputs": [
    {
     "ename": "TypeError",
     "evalue": "iterrows() missing 1 required positional argument: 'self'",
     "output_type": "error",
     "traceback": [
      "\u001b[1;31m---------------------------------------------------------------------------\u001b[0m",
      "\u001b[1;31mTypeError\u001b[0m                                 Traceback (most recent call last)",
      "\u001b[1;32m<ipython-input-55-464b2b3e63ad>\u001b[0m in \u001b[0;36m<module>\u001b[1;34m\u001b[0m\n\u001b[0;32m     11\u001b[0m \u001b[1;31m# Store the DataFrame Row\u001b[0m\u001b[1;33m\u001b[0m\u001b[1;33m\u001b[0m\u001b[1;33m\u001b[0m\u001b[0m\n\u001b[0;32m     12\u001b[0m \u001b[1;31m# NOTE: be sure to update with your DataFrame name\u001b[0m\u001b[1;33m\u001b[0m\u001b[1;33m\u001b[0m\u001b[1;33m\u001b[0m\u001b[0m\n\u001b[1;32m---> 13\u001b[1;33m \u001b[0mhotel_info\u001b[0m \u001b[1;33m=\u001b[0m \u001b[1;33m[\u001b[0m\u001b[0minfo_box_template\u001b[0m\u001b[1;33m.\u001b[0m\u001b[0mformat\u001b[0m\u001b[1;33m(\u001b[0m\u001b[1;33m**\u001b[0m\u001b[0mrow\u001b[0m\u001b[1;33m)\u001b[0m \u001b[1;32mfor\u001b[0m \u001b[0mindex\u001b[0m\u001b[1;33m,\u001b[0m \u001b[0mrow\u001b[0m \u001b[1;32min\u001b[0m \u001b[0mhotel_df\u001b[0m\u001b[1;33m.\u001b[0m\u001b[0miterrows\u001b[0m\u001b[1;33m(\u001b[0m\u001b[1;33m)\u001b[0m\u001b[1;33m]\u001b[0m\u001b[1;33m\u001b[0m\u001b[1;33m\u001b[0m\u001b[0m\n\u001b[0m\u001b[0;32m     14\u001b[0m \u001b[0mlocations\u001b[0m \u001b[1;33m=\u001b[0m \u001b[0mhotel_df\u001b[0m\u001b[1;33m[\u001b[0m\u001b[1;33m[\u001b[0m\u001b[1;34m\"Lat\"\u001b[0m\u001b[1;33m,\u001b[0m \u001b[1;34m\"Lng\"\u001b[0m\u001b[1;33m]\u001b[0m\u001b[1;33m]\u001b[0m\u001b[1;33m\u001b[0m\u001b[1;33m\u001b[0m\u001b[0m\n",
      "\u001b[1;31mTypeError\u001b[0m: iterrows() missing 1 required positional argument: 'self'"
     ]
    }
   ],
   "source": [
    "# NOTE: Do not change any of the code in this cell\n",
    "\n",
    "# Using the template add the hotel marks to the heatmap\n",
    "info_box_template = \"\"\"\n",
    "<dl>\n",
    "<dt>Name</dt><dd>{Hotel Name}</dd>\n",
    "<dt>City</dt><dd>{City}</dd>\n",
    "<dt>Country</dt><dd>{Country}</dd>\n",
    "</dl>\n",
    "\"\"\"\n",
    "# Store the DataFrame Row\n",
    "# NOTE: be sure to update with your DataFrame name\n",
    "hotel_info = [info_box_template.format(**row) for index, row in hotel_df.iterrows()]\n",
    "locations = hotel_df[[\"Lat\", \"Lng\"]]"
   ]
  },
  {
   "cell_type": "code",
   "execution_count": null,
   "metadata": {},
   "outputs": [],
   "source": [
    "# Add marker layer ontop of heat map\n",
    "\n",
    "\n",
    "# Display figure\n"
   ]
  },
  {
   "cell_type": "code",
   "execution_count": null,
   "metadata": {},
   "outputs": [],
   "source": []
  }
 ],
 "metadata": {
  "kernelspec": {
   "display_name": "Python 3",
   "language": "python",
   "name": "python3"
  },
  "language_info": {
   "codemirror_mode": {
    "name": "ipython",
    "version": 3
   },
   "file_extension": ".py",
   "mimetype": "text/x-python",
   "name": "python",
   "nbconvert_exporter": "python",
   "pygments_lexer": "ipython3",
   "version": "3.7.6"
  },
  "latex_envs": {
   "LaTeX_envs_menu_present": true,
   "autoclose": false,
   "autocomplete": true,
   "bibliofile": "biblio.bib",
   "cite_by": "apalike",
   "current_citInitial": 1,
   "eqLabelWithNumbers": true,
   "eqNumInitial": 1,
   "hotkeys": {
    "equation": "Ctrl-E",
    "itemize": "Ctrl-I"
   },
   "labels_anchors": false,
   "latex_user_defs": false,
   "report_style_numbering": false,
   "user_envs_cfg": false
  }
 },
 "nbformat": 4,
 "nbformat_minor": 4
}
